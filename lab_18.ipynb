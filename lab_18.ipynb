{
 "cells": [
  {
   "cell_type": "code",
   "execution_count": 2,
   "id": "4c772778",
   "metadata": {},
   "outputs": [
    {
     "name": "stdout",
     "output_type": "stream",
     "text": [
      "\n",
      "--- Imbalanced Data Model Evaluation ---\n",
      "              precision    recall  f1-score   support\n",
      "\n",
      "      Benign       0.96      0.93      0.94       190\n",
      "     Malware       0.13      0.20      0.16        10\n",
      "\n",
      "    accuracy                           0.90       200\n",
      "   macro avg       0.55      0.57      0.55       200\n",
      "weighted avg       0.92      0.90      0.90       200\n",
      "\n"
     ]
    }
   ],
   "source": [
    "import numpy as np\n",
    "from sklearn.model_selection import train_test_split\n",
    "from sklearn.tree import DecisionTreeClassifier\n",
    "from sklearn.metrics import classification_report\n",
    "\n",
    "# Create mock dataset\n",
    "np.random.seed(42)\n",
    "n_samples = 1000\n",
    "n_malware = int(n_samples * 0.05)\n",
    "n_benign = n_samples - n_malware\n",
    "\n",
    "# Features: 10 features with values between 0-1\n",
    "benign = np.random.rand(n_benign, 10)\n",
    "malware = np.random.rand(n_malware, 10)\n",
    "\n",
    "# Combine and create labels\n",
    "X = np.vstack((benign, malware))\n",
    "y = np.array([0]*n_benign + [1]*n_malware)\n",
    "\n",
    "# Shuffle\n",
    "shuffle_idx = np.random.permutation(n_samples)\n",
    "X, y = X[shuffle_idx], y[shuffle_idx]\n",
    "\n",
    "# Train-test split\n",
    "X_train, X_test, y_train, y_test = train_test_split(X, y, test_size=0.2, random_state=42, stratify=y)\n",
    "\n",
    "# Train Decision Tree\n",
    "dt = DecisionTreeClassifier(random_state=42)\n",
    "dt.fit(X_train, y_train)\n",
    "y_pred = dt.predict(X_test)\n",
    "\n",
    "# Evaluation\n",
    "print(\"\\n--- Imbalanced Data Model Evaluation ---\")\n",
    "print(classification_report(y_test, y_pred, target_names=[\"Benign\", \"Malware\"]))\n"
   ]
  }
 ],
 "metadata": {
  "kernelspec": {
   "display_name": ".venv",
   "language": "python",
   "name": "python3"
  },
  "language_info": {
   "codemirror_mode": {
    "name": "ipython",
    "version": 3
   },
   "file_extension": ".py",
   "mimetype": "text/x-python",
   "name": "python",
   "nbconvert_exporter": "python",
   "pygments_lexer": "ipython3",
   "version": "3.12.3"
  }
 },
 "nbformat": 4,
 "nbformat_minor": 5
}
