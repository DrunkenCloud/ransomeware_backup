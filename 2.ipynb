{
 "cells": [
  {
   "cell_type": "code",
   "execution_count": null,
   "id": "0f3e7694",
   "metadata": {},
   "outputs": [],
   "source": [
    "# Create a simple sample_log.txt file\n",
    "with open(\"sample_log.txt\", \"w\") as f:\n",
    "    f.write(\"2024-06-11 10:00:01 INFO User 'admin' logged in.\\n\")\n",
    "    f.write(\"2024-06-11 10:05:30 ERROR Failed login attempt from 192.168.1.10.\\n\")\n",
    "    f.write(\"2024-06-11 10:15:00 INFO System health check passed.\\n\")\n",
    "print(\"sample_log.txt created.\")"
   ]
  },
  {
   "cell_type": "code",
   "execution_count": null,
   "id": "a4e8cb9e",
   "metadata": {},
   "outputs": [],
   "source": [
    "# Read and print full content\n",
    "try:\n",
    "    with open(\"sample_log.txt\", \"r\") as file:\n",
    "        content = file.read()\n",
    "        print(\"--- Content of sample_log.txt ---\")\n",
    "        print(content)\n",
    "except FileNotFoundError:\n",
    "    print(\"Error: sample_log.txt not found.\")"
   ]
  },
  {
   "cell_type": "code",
   "execution_count": null,
   "id": "fba10b3e",
   "metadata": {},
   "outputs": [],
   "source": [
    "# Create a longer CSV string for security events\n",
    "data_csv = \"\"\"Timestamp,Event,Source_IP,Destination_IP,Port\n",
    "2024-06-11 10:00:01,Login,192.168.1.50,ServerA,80\n",
    "2024-06-11 10:00:05,FileAccess,192.168.1.60,ServerB,443\n",
    "2024-06-11 10:00:10,NetworkScan,10.0.0.1,203.0.113.1,N/A\n",
    "2024-06-11 10:00:15,Alert,192.168.1.70,ServerC,22\n",
    "2024-06-11 10:00:20,Login,192.168.1.50,ServerA,80\n",
    "2024-06-11 10:00:25,Alert,192.168.1.75,ServerD,22\n",
    "2024-06-11 10:00:30,Login,192.168.1.90,ServerA,80\n",
    "2024-06-11 10:00:35,FileAccess,192.168.1.60,ServerE,445\n",
    "2024-06-11 10:00:40,NetworkScan,172.16.0.5,203.0.113.5,N/A\n",
    "2024-06-11 10:00:45,Alert,10.1.1.1,ServerF,22\n",
    "2024-06-11 10:00:50,Login,192.168.1.50,ServerA,80\n",
    "2024-06-11 10:00:55,FileAccess,192.168.1.62,ServerB,443\n",
    "2024-06-11 10:01:00,Alert,192.168.1.70,ServerC,22\n",
    "2024-06-11 10:01:05,Login,192.168.1.90,ServerA,80\n",
    "2024-06-11 10:01:10,Login,10.0.0.3,ServerZ,8080\n",
    "2024-06-11 10:01:15,Alert,172.16.0.8,ServerY,22\n",
    "2024-06-11 10:01:20,NetworkScan,192.168.1.55,203.0.113.9,N/A\n",
    "2024-06-11 10:01:25,FileAccess,192.168.1.60,ServerX,443\n",
    "2024-06-11 10:01:30,Login,192.168.1.95,ServerA,80\n",
    "2024-06-11 10:01:35,Alert,192.168.1.80,ServerW,22\n",
    "\"\"\"\n",
    "\n",
    "with open(\"security_events.csv\", \"w\") as f:\n",
    "    f.write(data_csv)\n",
    "\n",
    "print(\"security_events.csv with 20 entries created.\")"
   ]
  },
  {
   "cell_type": "code",
   "execution_count": null,
   "id": "9246e5e5",
   "metadata": {},
   "outputs": [],
   "source": [
    "import pandas as pd\n",
    "\n",
    "try:\n",
    "    events_df = pd.read_csv(\"security_events.csv\")\n",
    "    print(\"--- DataFrame loaded from CSV ---\")\n",
    "    print(events_df.head())\n",
    "except FileNotFoundError:\n",
    "    print(\"Error: CSV file not found.\")"
   ]
  },
  {
   "cell_type": "code",
   "execution_count": null,
   "id": "e2a43224",
   "metadata": {},
   "outputs": [],
   "source": [
    "# Display first few rows\n",
    "print(events_df.head(3))"
   ]
  },
  {
   "cell_type": "code",
   "execution_count": null,
   "id": "6929cd3d",
   "metadata": {},
   "outputs": [],
   "source": [
    "# Info about the dataframe\n",
    "print(\"\\n--- DataFrame info ---\")\n",
    "events_df.info()"
   ]
  },
  {
   "cell_type": "code",
   "execution_count": null,
   "id": "55a14c46",
   "metadata": {},
   "outputs": [],
   "source": [
    "# Statistical summary\n",
    "print(\"\\n--- Numerical Summary ---\")\n",
    "print(events_df.describe(include='all'))"
   ]
  },
  {
   "cell_type": "code",
   "execution_count": null,
   "id": "b5a40f8d",
   "metadata": {},
   "outputs": [],
   "source": [
    "# Select single column\n",
    "print(\"\\n--- 'Event' column ---\")\n",
    "print(events_df['Event'])"
   ]
  },
  {
   "cell_type": "code",
   "execution_count": null,
   "id": "8fe72845",
   "metadata": {},
   "outputs": [],
   "source": [
    "# Select multiple columns\n",
    "print(\"\\n--- 'Timestamp' and 'Source_IP' columns ---\")\n",
    "print(events_df[['Timestamp', 'Source_IP']])"
   ]
  },
  {
   "cell_type": "code",
   "execution_count": null,
   "id": "820ca9fb",
   "metadata": {},
   "outputs": [],
   "source": [
    "# Filter rows where Event is 'Login'\n",
    "print(\"\\n--- Filter: Event == 'Login' ---\")\n",
    "login_df = events_df[events_df['Event'] == 'Login']\n",
    "print(login_df)"
   ]
  }
 ],
 "metadata": {
  "language_info": {
   "name": "python"
  }
 },
 "nbformat": 4,
 "nbformat_minor": 5
}
